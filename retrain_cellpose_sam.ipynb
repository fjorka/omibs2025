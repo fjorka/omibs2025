{
 "cells": [
  {
   "cell_type": "code",
   "execution_count": null,
   "id": "1a27925c",
   "metadata": {},
   "outputs": [],
   "source": [
    "!pip install cellpose"
   ]
  },
  {
   "cell_type": "code",
   "execution_count": null,
   "id": "3048184b",
   "metadata": {},
   "outputs": [],
   "source": [
    "from cellpose import io, models, train"
   ]
  },
  {
   "cell_type": "code",
   "execution_count": null,
   "id": "25eba090",
   "metadata": {},
   "outputs": [],
   "source": [
    "io.logger_setup()\n",
    "\n",
    "train_dir = r'D:\\data_analysis\\2025_Birder_mito\\sem_mitochondria_quant\\cellpose_sam_retrain\\train'\n",
    "test_dir = r'D:\\data_analysis\\2025_Birder_mito\\sem_mitochondria_quant\\cellpose_sam_retrain\\test'"
   ]
  },
  {
   "cell_type": "code",
   "execution_count": null,
   "id": "19de67e8",
   "metadata": {},
   "outputs": [],
   "source": [
    "\n",
    "\n",
    "\n",
    "output = io.load_train_test_data(train_dir, test_dir, image_filter=\"_img\",\n",
    "                                mask_filter=\"_mask\", look_one_level_down=False)\n",
    "images, labels, image_names, test_images, test_labels, image_names_test = output\n",
    "\n",
    "model = models.CellposeModel(gpu=True)\n",
    "\n",
    "model_path, train_losses, test_losses = train.train_seg(model.net,\n",
    "                            train_data=images, train_labels=labels,\n",
    "                            test_data=test_images, test_labels=test_labels,\n",
    "                            weight_decay=0.1, learning_rate=3e-5,\n",
    "                            n_epochs=100, model_name=\"unmyelinated_axons_model\")"
   ]
  },
  {
   "cell_type": "code",
   "execution_count": 352,
   "id": "04efd04c",
   "metadata": {},
   "outputs": [
    {
     "name": "stdout",
     "output_type": "stream",
     "text": [
      "2025-08-13 15:54:42,662 [INFO] ** TORCH CUDA version installed and working. **\n",
      "2025-08-13 15:54:42,665 [INFO] >>>> using GPU (CUDA)\n",
      "2025-08-13 15:54:44,674 [INFO] >>>> loading model d:\\data_analysis\\2025_Birder_mito\\sem_mitochondria_quant\\notebooks\\models\\unmyelinated_axons_model\n"
     ]
    }
   ],
   "source": [
    "model_trained = models.CellposeModel(pretrained_model = r'd:\\data_analysis\\2025_Birder_mito\\sem_mitochondria_quant\\notebooks\\models\\unmyelinated_axons_model',gpu=True)"
   ]
  }
 ],
 "metadata": {
  "kernelspec": {
   "display_name": "careamics-env",
   "language": "python",
   "name": "python3"
  },
  "language_info": {
   "codemirror_mode": {
    "name": "ipython",
    "version": 3
   },
   "file_extension": ".py",
   "mimetype": "text/x-python",
   "name": "python",
   "nbconvert_exporter": "python",
   "pygments_lexer": "ipython3",
   "version": "3.10.18"
  }
 },
 "nbformat": 4,
 "nbformat_minor": 5
}
